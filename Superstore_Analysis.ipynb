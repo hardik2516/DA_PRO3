{
 "cells": [
  {
   "cell_type": "code",
   "execution_count": null,
   "id": "37642307",
   "metadata": {},
   "outputs": [],
   "source": [
    "# 📌 Step 1: Import Libraries"
   ]
  },
  {
   "cell_type": "code",
   "execution_count": null,
   "id": "093776b0",
   "metadata": {},
   "outputs": [],
   "source": [
    "import pandas as pd\n",
    "import numpy as np\n",
    "import matplotlib.pyplot as plt\n",
    "import seaborn as sns\n",
    "\n",
    "sns.set(style=\"whitegrid\")\n",
    "plt.rcParams['figure.figsize'] = (12, 6)"
   ]
  },
  {
   "cell_type": "code",
   "execution_count": null,
   "id": "852ee759",
   "metadata": {},
   "outputs": [],
   "source": [
    "# 📥 Step 2: Load the Excel File\n",
    "# Upload the file manually in Colab using the file uploader"
   ]
  },
  {
   "cell_type": "code",
   "execution_count": null,
   "id": "cf2d2fc7",
   "metadata": {},
   "outputs": [],
   "source": [
    "from google.colab import files\n",
    "uploaded = files.upload()\n",
    "\n",
    "df = pd.read_excel(next(iter(uploaded)))"
   ]
  },
  {
   "cell_type": "code",
   "execution_count": null,
   "id": "9c52e904",
   "metadata": {},
   "outputs": [],
   "source": [
    "# 🔍 Step 3: Initial Data Inspection"
   ]
  },
  {
   "cell_type": "code",
   "execution_count": null,
   "id": "95ac3165",
   "metadata": {},
   "outputs": [],
   "source": [
    "df.head()"
   ]
  },
  {
   "cell_type": "code",
   "execution_count": null,
   "id": "10d7cc20",
   "metadata": {},
   "outputs": [],
   "source": [
    "df.info()"
   ]
  },
  {
   "cell_type": "code",
   "execution_count": null,
   "id": "134e8bfd",
   "metadata": {},
   "outputs": [],
   "source": [
    "df.describe()"
   ]
  },
  {
   "cell_type": "code",
   "execution_count": null,
   "id": "6616c2b7",
   "metadata": {},
   "outputs": [],
   "source": [
    "df.isnull().sum()"
   ]
  },
  {
   "cell_type": "code",
   "execution_count": null,
   "id": "4f81bc79",
   "metadata": {},
   "outputs": [],
   "source": [
    "# 🧹 Step 4: Data Cleaning"
   ]
  },
  {
   "cell_type": "code",
   "execution_count": null,
   "id": "283753de",
   "metadata": {},
   "outputs": [],
   "source": [
    "df['Order Date'] = pd.to_datetime(df['Order Date'])\n",
    "df['Ship Date'] = pd.to_datetime(df['Ship Date'])\n",
    "\n",
    "df.duplicated().sum()\n",
    "df = df.drop_duplicates()"
   ]
  },
  {
   "cell_type": "code",
   "execution_count": null,
   "id": "e5236d67",
   "metadata": {},
   "outputs": [],
   "source": [
    "# 📊 Step 5: Exploratory Data Analysis"
   ]
  },
  {
   "cell_type": "code",
   "execution_count": null,
   "id": "29c77e5c",
   "metadata": {},
   "outputs": [],
   "source": [
    "# 1. Sales by Category"
   ]
  },
  {
   "cell_type": "code",
   "execution_count": null,
   "id": "3cc3e225",
   "metadata": {},
   "outputs": [],
   "source": [
    "cat_sales = df.groupby('Category')['Sales'].sum().sort_values(ascending=False)\n",
    "sns.barplot(x=cat_sales.index, y=cat_sales.values)\n",
    "plt.title(\"Total Sales by Category\")\n",
    "plt.ylabel(\"Sales\")\n",
    "plt.show()"
   ]
  },
  {
   "cell_type": "code",
   "execution_count": null,
   "id": "e230999c",
   "metadata": {},
   "outputs": [],
   "source": [
    "# 2. Profit by Sub-Category"
   ]
  },
  {
   "cell_type": "code",
   "execution_count": null,
   "id": "e2f660ff",
   "metadata": {},
   "outputs": [],
   "source": [
    "subcat_profit = df.groupby('Sub-Category')['Profit'].sum().sort_values()\n",
    "subcat_profit.plot(kind='barh', color='skyblue')\n",
    "plt.title(\"Profit by Sub-Category\")\n",
    "plt.xlabel(\"Profit\")\n",
    "plt.show()"
   ]
  },
  {
   "cell_type": "code",
   "execution_count": null,
   "id": "f933c55e",
   "metadata": {},
   "outputs": [],
   "source": [
    "# 3. Sales Trend Over Time"
   ]
  },
  {
   "cell_type": "code",
   "execution_count": null,
   "id": "58b7600a",
   "metadata": {},
   "outputs": [],
   "source": [
    "df_monthly = df.set_index('Order Date').resample('M').sum(numeric_only=True)\n",
    "df_monthly['Sales'].plot()\n",
    "plt.title(\"Monthly Sales Trend\")\n",
    "plt.ylabel(\"Sales\")\n",
    "plt.show()"
   ]
  },
  {
   "cell_type": "code",
   "execution_count": null,
   "id": "0f8569b3",
   "metadata": {},
   "outputs": [],
   "source": [
    "# 4. Profit vs Discount"
   ]
  },
  {
   "cell_type": "code",
   "execution_count": null,
   "id": "033415b5",
   "metadata": {},
   "outputs": [],
   "source": [
    "sns.scatterplot(data=df, x=\"Discount\", y=\"Profit\", hue=\"Category\")\n",
    "plt.title(\"Discount vs Profit\")\n",
    "plt.show()"
   ]
  },
  {
   "cell_type": "code",
   "execution_count": null,
   "id": "398ab28e",
   "metadata": {},
   "outputs": [],
   "source": [
    "# 5. Region-wise Profit"
   ]
  },
  {
   "cell_type": "code",
   "execution_count": null,
   "id": "e880dc64",
   "metadata": {},
   "outputs": [],
   "source": [
    "region_profit = df.groupby('Region')['Profit'].sum()\n",
    "sns.barplot(x=region_profit.index, y=region_profit.values)\n",
    "plt.title(\"Total Profit by Region\")\n",
    "plt.ylabel(\"Profit\")\n",
    "plt.show()"
   ]
  },
  {
   "cell_type": "code",
   "execution_count": null,
   "id": "938fd88c",
   "metadata": {},
   "outputs": [],
   "source": [
    "# 📌 Step 6: Sample Business Insights"
   ]
  },
  {
   "cell_type": "code",
   "execution_count": null,
   "id": "b7ad24e6",
   "metadata": {},
   "outputs": [],
   "source": [
    "# Top 5 profitable products"
   ]
  },
  {
   "cell_type": "code",
   "execution_count": null,
   "id": "9392f3d9",
   "metadata": {},
   "outputs": [],
   "source": [
    "top_products = df.groupby('Product Name')['Profit'].sum().sort_values(ascending=False).head(5)\n",
    "print(\"Top 5 Profitable Products:\\n\", top_products)"
   ]
  },
  {
   "cell_type": "code",
   "execution_count": null,
   "id": "6c0a6d02",
   "metadata": {},
   "outputs": [],
   "source": [
    "# Region with highest profit margin"
   ]
  },
  {
   "cell_type": "code",
   "execution_count": null,
   "id": "d807a305",
   "metadata": {},
   "outputs": [],
   "source": [
    "region_margin = df.groupby('Region').apply(lambda x: x['Profit'].sum() / x['Sales'].sum())\n",
    "print(\"\\nRegion-wise Profit Margin:\\n\", region_margin.sort_values(ascending=False))"
   ]
  },
  {
   "cell_type": "code",
   "execution_count": null,
   "id": "f3605f2e",
   "metadata": {},
   "outputs": [],
   "source": [
    "# Average shipping delay"
   ]
  },
  {
   "cell_type": "code",
   "execution_count": null,
   "id": "7cb8d806",
   "metadata": {},
   "outputs": [],
   "source": [
    "df['Shipping Delay'] = (df['Ship Date'] - df['Order Date']).dt.days\n",
    "print(\"\\nAverage Shipping Delay (Days):\", df['Shipping Delay'].mean())"
   ]
  },
  {
   "cell_type": "code",
   "execution_count": null,
   "id": "2a33b741",
   "metadata": {},
   "outputs": [],
   "source": [
    "# 📦 Step 7: Save Cleaned Data (optional)"
   ]
  },
  {
   "cell_type": "code",
   "execution_count": null,
   "id": "bff8b5b5",
   "metadata": {},
   "outputs": [],
   "source": [
    "df.to_csv(\"Cleaned_Superstore.csv\", index=False)\n",
    "files.download(\"Cleaned_Superstore.csv\")"
   ]
  }
 ],
 "metadata": {},
 "nbformat": 4,
 "nbformat_minor": 5
}
